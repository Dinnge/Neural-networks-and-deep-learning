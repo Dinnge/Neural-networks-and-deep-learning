{
 "cells": [
  {
   "cell_type": "markdown",
   "metadata": {},
   "source": [
    "## 准备数据"
   ]
  },
  {
   "cell_type": "code",
   "execution_count": 6,
   "metadata": {},
   "outputs": [],
   "source": [
    "import os\n",
    "import numpy as np\n",
    "import tensorflow as tf\n",
    "from tensorflow import keras\n",
    "from tensorflow.keras import layers, optimizers, datasets\n",
    "\n",
    "os.environ['TF_CPP_MIN_LOG_LEVEL'] = '2'  # or any {'0', '1', '2'}\n",
    "\n",
    "def mnist_dataset():\n",
    "    (x, y), (x_test, y_test) = datasets.mnist.load_data()\n",
    "    #normalize\n",
    "    x = x/255.0\n",
    "    x_test = x_test/255.0\n",
    "    \n",
    "    return (x, y), (x_test, y_test)"
   ]
  },
  {
   "cell_type": "code",
   "execution_count": 7,
   "metadata": {},
   "outputs": [
    {
     "name": "stdout",
     "output_type": "stream",
     "text": [
      "[(1, 'a'), (2, 'b'), (3, 'c'), (4, 'd')]\n"
     ]
    }
   ],
   "source": [
    "print(list(zip([1, 2, 3, 4], ['a', 'b', 'c', 'd'])))"
   ]
  },
  {
   "cell_type": "markdown",
   "metadata": {},
   "source": [
    "## 建立模型"
   ]
  },
  {
   "cell_type": "code",
   "execution_count": 8,
   "metadata": {},
   "outputs": [],
   "source": [
    "class myModel:\n",
    "    def __init__(self):\n",
    "        ####################\n",
    "        '''声明模型对应的参数'''\n",
    "        self.W1 = tf.Variable(tf.random.normal(shape=(28 * 28, 128), stddev=0.01), trainable=True)\n",
    "        self.b1 = tf.Variable(tf.zeros(shape=(128,)), trainable=True)\n",
    "        self.W2 = tf.Variable(tf.random.normal(shape=(128, 10), stddev=0.01), trainable=True)\n",
    "        self.b2 = tf.Variable(tf.zeros(shape=(10,)), trainable=True)\n",
    "        ####################\n",
    "    def __call__(self, x):\n",
    "        ####################\n",
    "        '''实现模型函数体，返回未归一化的logits'''\n",
    "        ####################\n",
    "        x_flattened = tf.reshape(x, [-1, 784])\n",
    "        h1 = tf.matmul(x_flattened, self.W1) + self.b1\n",
    "        activated_h1 = tf.tanh(h1)\n",
    "        logits = tf.matmul(activated_h1, self.W2) + self.b2\n",
    "        return logits\n",
    "\n",
    "model = myModel()\n",
    "\n",
    "optimizer = optimizers.Adam()"
   ]
  },
  {
   "cell_type": "markdown",
   "metadata": {},
   "source": [
    "## 计算 loss"
   ]
  },
  {
   "cell_type": "code",
   "execution_count": 9,
   "metadata": {},
   "outputs": [],
   "source": [
    "@tf.function\n",
    "def compute_loss(logits, labels):\n",
    "    return tf.reduce_mean(\n",
    "        tf.nn.sparse_softmax_cross_entropy_with_logits(\n",
    "            logits=logits, labels=labels))\n",
    "\n",
    "@tf.function\n",
    "def compute_accuracy(logits, labels):\n",
    "    predictions = tf.argmax(logits, axis=1)\n",
    "    return tf.reduce_mean(tf.cast(tf.equal(predictions, labels), tf.float32))\n",
    "\n",
    "@tf.function\n",
    "def train_one_step(model, optimizer, x, y):\n",
    "    with tf.GradientTape() as tape:\n",
    "        logits = model(x)\n",
    "        loss = compute_loss(logits, y)\n",
    "\n",
    "    # compute gradient\n",
    "    trainable_vars = [model.W1, model.W2, model.b1, model.b2]\n",
    "    grads = tape.gradient(loss, trainable_vars)\n",
    "    for g, v in zip(grads, trainable_vars):\n",
    "        v.assign_sub(0.01*g)\n",
    "\n",
    "    accuracy = compute_accuracy(logits, y)\n",
    "\n",
    "    # loss and accuracy is scalar tensor\n",
    "    return loss, accuracy\n",
    "\n",
    "@tf.function\n",
    "def test(model, x, y):\n",
    "    logits = model(x)\n",
    "    loss = compute_loss(logits, y)\n",
    "    accuracy = compute_accuracy(logits, y)\n",
    "    return loss, accuracy"
   ]
  },
  {
   "cell_type": "markdown",
   "metadata": {},
   "source": [
    "## 实际训练"
   ]
  },
  {
   "cell_type": "code",
   "execution_count": 10,
   "metadata": {},
   "outputs": [
    {
     "name": "stdout",
     "output_type": "stream",
     "text": [
      "epoch 0 : loss 2.3022208 ; accuracy 0.1006\n",
      "epoch 1 : loss 2.3019662 ; accuracy 0.10598333\n",
      "epoch 2 : loss 2.3017118 ; accuracy 0.11075\n",
      "epoch 3 : loss 2.3014574 ; accuracy 0.116283335\n",
      "epoch 4 : loss 2.3012025 ; accuracy 0.121983334\n",
      "epoch 5 : loss 2.300948 ; accuracy 0.1278\n",
      "epoch 6 : loss 2.300693 ; accuracy 0.13378334\n",
      "epoch 7 : loss 2.300438 ; accuracy 0.13993333\n",
      "epoch 8 : loss 2.300183 ; accuracy 0.1461\n",
      "epoch 9 : loss 2.2999282 ; accuracy 0.15168333\n",
      "epoch 10 : loss 2.299673 ; accuracy 0.15816666\n",
      "epoch 11 : loss 2.2994177 ; accuracy 0.16493334\n",
      "epoch 12 : loss 2.2991624 ; accuracy 0.17095\n",
      "epoch 13 : loss 2.2989068 ; accuracy 0.17701666\n",
      "epoch 14 : loss 2.2986507 ; accuracy 0.18366666\n",
      "epoch 15 : loss 2.2983947 ; accuracy 0.18986666\n",
      "epoch 16 : loss 2.2981384 ; accuracy 0.19703333\n",
      "epoch 17 : loss 2.2978818 ; accuracy 0.20368333\n",
      "epoch 18 : loss 2.297625 ; accuracy 0.2094\n",
      "epoch 19 : loss 2.2973678 ; accuracy 0.2154\n",
      "epoch 20 : loss 2.2971103 ; accuracy 0.22171667\n",
      "epoch 21 : loss 2.2968526 ; accuracy 0.22766666\n",
      "epoch 22 : loss 2.2965946 ; accuracy 0.23431666\n",
      "epoch 23 : loss 2.296336 ; accuracy 0.2417\n",
      "epoch 24 : loss 2.296077 ; accuracy 0.24838333\n",
      "epoch 25 : loss 2.2958176 ; accuracy 0.25635\n",
      "epoch 26 : loss 2.2955577 ; accuracy 0.2639\n",
      "epoch 27 : loss 2.2952979 ; accuracy 0.2716\n",
      "epoch 28 : loss 2.295037 ; accuracy 0.27945\n",
      "epoch 29 : loss 2.2947757 ; accuracy 0.28666666\n",
      "epoch 30 : loss 2.2945142 ; accuracy 0.29476666\n",
      "epoch 31 : loss 2.2942522 ; accuracy 0.30265\n",
      "epoch 32 : loss 2.2939892 ; accuracy 0.31093332\n",
      "epoch 33 : loss 2.2937257 ; accuracy 0.31791666\n",
      "epoch 34 : loss 2.293462 ; accuracy 0.32476667\n",
      "epoch 35 : loss 2.2931974 ; accuracy 0.3322\n",
      "epoch 36 : loss 2.2929323 ; accuracy 0.339\n",
      "epoch 37 : loss 2.2926667 ; accuracy 0.34593335\n",
      "epoch 38 : loss 2.2924 ; accuracy 0.35283333\n",
      "epoch 39 : loss 2.2921329 ; accuracy 0.35936666\n",
      "epoch 40 : loss 2.291865 ; accuracy 0.36551666\n",
      "epoch 41 : loss 2.2915967 ; accuracy 0.37158334\n",
      "epoch 42 : loss 2.2913272 ; accuracy 0.37711668\n",
      "epoch 43 : loss 2.2910573 ; accuracy 0.38315\n",
      "epoch 44 : loss 2.2907865 ; accuracy 0.38871667\n",
      "epoch 45 : loss 2.290515 ; accuracy 0.39468333\n",
      "epoch 46 : loss 2.2902424 ; accuracy 0.39968333\n",
      "epoch 47 : loss 2.2899692 ; accuracy 0.40501666\n",
      "epoch 48 : loss 2.289695 ; accuracy 0.40981665\n",
      "epoch 49 : loss 2.2894201 ; accuracy 0.41398335\n",
      "test loss 2.2885919 ; accuracy 0.4244\n"
     ]
    }
   ],
   "source": [
    "train_data, test_data = mnist_dataset()\n",
    "for epoch in range(50):\n",
    "    loss, accuracy = train_one_step(model, optimizer, \n",
    "                                    tf.constant(train_data[0], dtype=tf.float32), \n",
    "                                    tf.constant(train_data[1], dtype=tf.int64))\n",
    "    print('epoch', epoch, ': loss', loss.numpy(), '; accuracy', accuracy.numpy())\n",
    "loss, accuracy = test(model, \n",
    "                      tf.constant(test_data[0], dtype=tf.float32), \n",
    "                      tf.constant(test_data[1], dtype=tf.int64))\n",
    "\n",
    "print('test loss', loss.numpy(), '; accuracy', accuracy.numpy())"
   ]
  }
 ],
 "metadata": {
  "kernelspec": {
   "display_name": "Python 3 (ipykernel)",
   "language": "python",
   "name": "python3"
  },
  "language_info": {
   "codemirror_mode": {
    "name": "ipython",
    "version": 3
   },
   "file_extension": ".py",
   "mimetype": "text/x-python",
   "name": "python",
   "nbconvert_exporter": "python",
   "pygments_lexer": "ipython3",
   "version": "3.9.13"
  }
 },
 "nbformat": 4,
 "nbformat_minor": 4
}
